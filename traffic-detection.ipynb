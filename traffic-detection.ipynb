{
 "cells": [
  {
   "cell_type": "code",
   "execution_count": 30,
   "metadata": {},
   "outputs": [],
   "source": [
    "import torch\n",
    "from torch.utils.data import Dataset, DataLoader\n",
    "from torchvision.transforms import ToTensor\n",
    "from torchvision.io import read_image\n",
    "\n",
    "import torch.nn as nn             # for torch.nn.Module, the parent object for Pytorch models\n",
    "import torch.nn.functional as F   # for activation function\n",
    "\n",
    "import matplotlib.pyplot as plt\n",
    "import os\n",
    "import pandas as pd\n",
    "import numpy as np"
   ]
  },
  {
   "cell_type": "code",
   "execution_count": 42,
   "metadata": {},
   "outputs": [],
   "source": [
    "class TrafficSignDataset(Dataset):\n",
    "    \n",
    "    def __init__(self, annotations, directory, transform=None):\n",
    "        # directory containing the images\n",
    "        self.directory = directory\n",
    "        \n",
    "        # loading the csv with info about images\n",
    "        annotations_file_dir = os.path.join(self.directory, annotations)\n",
    "        self.labels = pd.read_csv(annotations_file_dir)\n",
    "        \n",
    "        # transform to be applied on images\n",
    "        self.transform = transform\n",
    " \n",
    "        # Number of images in dataset\n",
    "        self.len = self.labels.shape[0]\n",
    " \n",
    "    # getting the length\n",
    "    def __len__(self):\n",
    "        return len(self.labels)\n",
    " \n",
    "    # getting the data items\n",
    "    def __getitem__(self, idx):\n",
    "        # defining the image path\n",
    "        image_path = os.path.join(self.directory, self.labels.iloc[idx, 0])\n",
    "        # reading the images\n",
    "        image = read_image(image_path)\n",
    "        # corresponding class labels of the images \n",
    "        label = self.labels.iloc[idx, 1]\n",
    " \n",
    "        # apply the transform if not set to None\n",
    "        if self.transform:\n",
    "            image = self.transform(image)\n",
    "        \n",
    "        # returning the image and label\n",
    "        return image, label"
   ]
  },
  {
   "cell_type": "code",
   "execution_count": null,
   "metadata": {},
   "outputs": [],
   "source": [
    "# instantiate dataset\n",
    "directory = \"data\"\n",
    "annotations = \"annotations.csv\"\n",
    "custom_dataset = TrafficSignDataset(directory=directory,\n",
    "                                    annotations=annotations)"
   ]
  },
  {
   "cell_type": "code",
   "execution_count": null,
   "metadata": {},
   "outputs": [],
   "source": [
    "# data loader\n"
   ]
  },
  {
   "cell_type": "code",
   "execution_count": null,
   "metadata": {},
   "outputs": [],
   "source": [
    "# GTSRB labels reference: https://github.com/magnusja/GTSRB-caffe-model/blob/master/labeller/main.py\n",
    "label_map = {\n",
    "    '0': 'stop',\n",
    "    '1': 'turn_straight_left',\n",
    "    '2': '20_speed'\n",
    "}"
   ]
  },
  {
   "cell_type": "code",
   "execution_count": null,
   "metadata": {},
   "outputs": [],
   "source": [
    "# Need datasets for:\n",
    "# traffic signs\n",
    "# traffic lights\n",
    "# vehicles\n",
    "\n",
    "# use existing models? such as ResNet50\n"
   ]
  }
 ],
 "metadata": {
  "kernelspec": {
   "display_name": "Python 3",
   "language": "python",
   "name": "python3"
  },
  "language_info": {
   "codemirror_mode": {
    "name": "ipython",
    "version": 3
   },
   "file_extension": ".py",
   "mimetype": "text/x-python",
   "name": "python",
   "nbconvert_exporter": "python",
   "pygments_lexer": "ipython3",
   "version": "3.11.4"
  },
  "orig_nbformat": 4
 },
 "nbformat": 4,
 "nbformat_minor": 2
}
