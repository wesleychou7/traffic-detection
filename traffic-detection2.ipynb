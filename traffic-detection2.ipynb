{
 "cells": [
  {
   "cell_type": "code",
   "execution_count": 15,
   "metadata": {},
   "outputs": [],
   "source": [
    "import torch\n",
    "from torch.utils.data import Dataset, Subset, DataLoader\n",
    "from torchvision import datasets, transforms\n",
    "from torchvision.io import read_image\n",
    "\n",
    "import torch.nn as nn             # for torch.nn.Module, the parent object for Pytorch models\n",
    "import torch.nn.functional as F   # for activation function\n",
    "\n",
    "import matplotlib.pyplot as plt\n",
    "import os\n",
    "import pandas as pd\n",
    "import numpy as np"
   ]
  },
  {
   "cell_type": "code",
   "execution_count": 2,
   "metadata": {},
   "outputs": [
    {
     "name": "stdout",
     "output_type": "stream",
     "text": [
      "There are 3 directories and 2 images in 'data'.\n",
      "There are 0 directories and 150 images in 'data/20_speed'.\n",
      "There are 0 directories and 150 images in 'data/turn_straight_left'.\n",
      "There are 0 directories and 540 images in 'data/stop'.\n"
     ]
    }
   ],
   "source": [
    "def walk_through_dir(dir_path):\n",
    "  \"\"\"\n",
    "  Walks through dir_path returning its contents.\n",
    "  Args:\n",
    "    dir_path (str or pathlib.Path): target directory\n",
    "  \n",
    "  Returns:\n",
    "    A print out of:\n",
    "      number of subdiretories in dir_path\n",
    "      number of images (files) in each subdirectory\n",
    "      name of each subdirectory\n",
    "  \"\"\"\n",
    "  for dirpath, dirnames, filenames in os.walk(dir_path):\n",
    "    print(f\"There are {len(dirnames)} directories and {len(filenames)} images in '{dirpath}'.\")\n",
    "\n",
    "image_path = \"data\"\n",
    "walk_through_dir(image_path)"
   ]
  },
  {
   "cell_type": "code",
   "execution_count": 9,
   "metadata": {},
   "outputs": [],
   "source": [
    "transform = transforms.Compose([\n",
    "    # Resize the images to 64x64\n",
    "    transforms.Resize(size=(32, 32)),\n",
    "    # Turn the image into a torch.Tensor\n",
    "    transforms.ToTensor() # this also converts all pixel values from 0 to 255 to be between 0.0 and 1.0 \n",
    "])"
   ]
  },
  {
   "cell_type": "code",
   "execution_count": 12,
   "metadata": {},
   "outputs": [
    {
     "name": "stdout",
     "output_type": "stream",
     "text": [
      "Dataset ImageFolder\n",
      "    Number of datapoints: 840\n",
      "    Root location: data\n",
      "    StandardTransform\n",
      "Transform: Compose(\n",
      "               Resize(size=(32, 32), interpolation=bilinear, max_size=None, antialias=warn)\n",
      "               ToTensor()\n",
      "           )\n",
      "class names: ['20_speed', 'stop', 'turn_straight_left'] \n",
      "\n",
      "Original shape: torch.Size([3, 32, 32]) -> [color_channels, height, width]\n",
      "Image permute shape: torch.Size([32, 32, 3]) -> [height, width, color_channels]\n"
     ]
    },
    {
     "data": {
      "text/plain": [
       "<matplotlib.image.AxesImage at 0x12021f110>"
      ]
     },
     "execution_count": 12,
     "metadata": {},
     "output_type": "execute_result"
    },
    {
     "data": {
      "image/png": "[encoded data removed]",
      "text/plain": [
       "<Figure size 200x200 with 1 Axes>"
      ]
     },
     "metadata": {},
     "output_type": "display_data"
    }
   ],
   "source": [
    "# load data into an ImageFolder\n",
    "directory = \"data\"\n",
    "dataset = datasets.ImageFolder(root=directory,\n",
    "                               transform=transform)\n",
    "print(dataset)\n",
    "class_names = dataset.classes\n",
    "print(\"class names:\", class_names, \"\\n\")\n",
    "\n",
    "\n",
    "img, label = dataset[700][0], dataset[700][1]\n",
    "\n",
    "# Print out different shapes (before and after permute). We permute because matplotlib wants a different image dimension\n",
    "print(f\"Original shape: {img.shape} -> [color_channels, height, width]\")\n",
    "print(f\"Image permute shape: {img.permute(1,2,0).shape} -> [height, width, color_channels]\")\n",
    "\n",
    "plt.figure(figsize=(2, 2))\n",
    "plt.title(class_names[label], fontsize=14)\n",
    "plt.imshow(img.permute(1,2,0))\n"
   ]
  },
  {
   "cell_type": "code",
   "execution_count": 23,
   "metadata": {},
   "outputs": [
    {
     "data": {
      "text/plain": [
       "<matplotlib.image.AxesImage at 0x120893d10>"
      ]
     },
     "execution_count": 23,
     "metadata": {},
     "output_type": "execute_result"
    },
    {
     "data": {
      "image/png": "[encoded data removed]",
      "text/plain": [
       "<Figure size 200x200 with 1 Axes>"
      ]
     },
     "metadata": {},
     "output_type": "display_data"
    }
   ],
   "source": [
    "dataloader = DataLoader(dataset, batch_size=64, shuffle=True)\n",
    "\n",
    "\n",
    "\n",
    "# train-test splitting\n",
    "n = len(dataset)\n",
    "n_test = int(0.1 * n)  # take ~10% for test\n",
    "test_set = Subset(dataset, range(n_test))  # take first 10%\n",
    "train_set = Subset(dataset, range(n_test, n))  # take the rest\n",
    "\n",
    "\n",
    "\n",
    "# img, label = test_set[40][0], test_set[40][1]\n",
    "# plt.figure(figsize=(2, 2))\n",
    "# plt.title(class_names[label], fontsize=14)\n",
    "# plt.imshow(img.permute(1,2,0))"
   ]
  },
  {
   "cell_type": "code",
   "execution_count": 5,
   "metadata": {},
   "outputs": [
    {
     "data": {
      "text/plain": [
       "'\\nTODO:\\n- normalize images? check more transformations\\n- shuffle dataset and do train/test split \\n'"
      ]
     },
     "execution_count": 5,
     "metadata": {},
     "output_type": "execute_result"
    }
   ],
   "source": [
    "\"\"\"\n",
    "TODO:\n",
    "- get gtsrb dataset in png\n",
    "- split to train, test, cv\n",
    "- train model\n",
    "\n",
    "After that,\n",
    "get U.S. traffic signs from google images and use data augmentation.\n",
    "this will become our dataset\n",
    "\"\"\""
   ]
  }
 ],
 "metadata": {
  "kernelspec": {
   "display_name": "Python 3",
   "language": "python",
   "name": "python3"
  },
  "language_info": {
   "codemirror_mode": {
    "name": "ipython",
    "version": 3
   },
   "file_extension": ".py",
   "mimetype": "text/x-python",
   "name": "python",
   "nbconvert_exporter": "python",
   "pygments_lexer": "ipython3",
   "version": "3.11.4"
  },
  "orig_nbformat": 4
 },
 "nbformat": 4,
 "nbformat_minor": 2
}
