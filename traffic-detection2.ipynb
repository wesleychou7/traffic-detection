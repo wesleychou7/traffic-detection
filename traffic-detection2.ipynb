{
 "cells": [
  {
   "cell_type": "code",
   "execution_count": 63,
   "metadata": {},
   "outputs": [
    {
     "data": {
      "text/plain": [
       "<module 'utils' from '/Users/wesleychou/Documents/GitHub/traffic-detection/utils.py'>"
      ]
     },
     "execution_count": 63,
     "metadata": {},
     "output_type": "execute_result"
    }
   ],
   "source": [
    "import torch\n",
    "from torch.utils.data import Dataset, Subset, DataLoader\n",
    "from torchvision import datasets, transforms\n",
    "from torchvision.io import read_image\n",
    "import torch.nn as nn\n",
    "import torch.nn.functional as F\n",
    "\n",
    "import matplotlib.pyplot as plt\n",
    "import os\n",
    "import pandas as pd\n",
    "import numpy as np\n",
    "import importlib\n",
    "\n",
    "import utils\n",
    "\n",
    "importlib.reload(utils)  # reload the module so changes are applied"
   ]
  },
  {
   "cell_type": "code",
   "execution_count": 27,
   "metadata": {},
   "outputs": [],
   "source": [
    "label_map = {\n",
    "    0: '20_speed',\n",
    "    1: '30_speed',\n",
    "    2: '50_speed',\n",
    "    3: '60_speed',\n",
    "    4: '70_speed',\n",
    "    5: '80_speed',\n",
    "    6: '80_lifted',\n",
    "    7: '100_speed',\n",
    "    8: '120_speed',\n",
    "    9: 'no_overtaking_general',\n",
    "    10: 'no_overtaking_trucks',\n",
    "    11: 'right_of_way_crossing',\n",
    "    12: 'right_of_way_general',\n",
    "    13: 'give_way',\n",
    "    14: 'stop',\n",
    "    15: 'no_way_general',\n",
    "    16: 'no_way_trucks',\n",
    "    17: 'no_way_one_way',\n",
    "    18: 'attention_general',\n",
    "    19: 'attention_left_turn',\n",
    "    20: 'attention_right_turn',\n",
    "    21: 'attention_curvy',\n",
    "    22: 'attention_bumpers',\n",
    "    23: 'attention_slippery',\n",
    "    24: 'attention_bottleneck',\n",
    "    25: 'attention_construction',\n",
    "    26: 'attention_traffic_light',\n",
    "    27: 'attention_pedestrian',\n",
    "    28: 'attention_children',\n",
    "    29: 'attention_bikes',\n",
    "    30: 'attention_snowflake',\n",
    "    31: 'attention_deer',\n",
    "    32: 'lifted_general',\n",
    "    33: 'turn_right',\n",
    "    34: 'turn_left',\n",
    "    35: 'turn_straight',\n",
    "    36: 'turn_straight_right',\n",
    "    37: 'turn_straight_left',\n",
    "    38: 'turn_right_down',\n",
    "    39: 'turn_left_down',\n",
    "    40: 'turn_circle',\n",
    "    41: 'lifted_no_overtaking_general',\n",
    "    42: 'lifted_no_overtaking_trucks'\n",
    "}"
   ]
  },
  {
   "cell_type": "markdown",
   "metadata": {},
   "source": [
    "Load data"
   ]
  },
  {
   "cell_type": "code",
   "execution_count": 38,
   "metadata": {},
   "outputs": [
    {
     "name": "stdout",
     "output_type": "stream",
     "text": [
      "Length of train_data: 594\n",
      "Length of test_data: 66\n",
      "class names: ['20_speed', 'attention_pedestrian', 'turn_straight_left']\n"
     ]
    }
   ],
   "source": [
    "train_dir = \"gtsrb-small/train\"\n",
    "test_dir = \"gtsrb-small/test\"\n",
    "\n",
    "transform = transforms.Compose([\n",
    "    transforms.Resize(size=(32, 32)),\n",
    "    transforms.ToTensor()\n",
    "])\n",
    "\n",
    "# load data to ImageFolder\n",
    "train_data = datasets.ImageFolder(root=train_dir, transform=transform)\n",
    "test_data = datasets.ImageFolder(root=test_dir, transform=transform)\n",
    "\n",
    "print(\"Length of train_data:\", len(train_data))\n",
    "print(\"Length of test_data:\", len(test_data))\n",
    "class_names = [label_map[int(item)] for item in train_data.classes]\n",
    "print(\"class names:\", class_names)\n",
    "\n"
   ]
  },
  {
   "cell_type": "code",
   "execution_count": 64,
   "metadata": {},
   "outputs": [
    {
     "data": {
      "image/png": "[encoded data removed]",
      "text/plain": [
       "<Figure size 1000x400 with 5 Axes>"
      ]
     },
     "metadata": {},
     "output_type": "display_data"
    }
   ],
   "source": [
    "utils.show_random_images(train_data, 1)\n",
    "# plt.imshow(train_data[35][0].permute(1,2,0))\n",
    "# plt.title(label_map[train_data[35][1]], fontsize=10)\n",
    "# print"
   ]
  },
  {
   "cell_type": "code",
   "execution_count": null,
   "metadata": {},
   "outputs": [
    {
     "data": {
      "text/plain": [
       "'\\nTODO:\\n- normalize images? check more transformations\\n- shuffle dataset and do train/test split \\n'"
      ]
     },
     "execution_count": 5,
     "metadata": {},
     "output_type": "execute_result"
    }
   ],
   "source": [
    "\"\"\"\n",
    "TODO:\n",
    "- get gtsrb dataset in png\n",
    "- split to train, test, cv\n",
    "- train model\n",
    "\n",
    "After that,\n",
    "get U.S. traffic signs from google images and use data augmentation.\n",
    "this will become our dataset\n",
    "\"\"\""
   ]
  }
 ],
 "metadata": {
  "kernelspec": {
   "display_name": "Python 3",
   "language": "python",
   "name": "python3"
  },
  "language_info": {
   "codemirror_mode": {
    "name": "ipython",
    "version": 3
   },
   "file_extension": ".py",
   "mimetype": "text/x-python",
   "name": "python",
   "nbconvert_exporter": "python",
   "pygments_lexer": "ipython3",
   "version": "3.11.4"
  },
  "orig_nbformat": 4
 },
 "nbformat": 4,
 "nbformat_minor": 2
}
